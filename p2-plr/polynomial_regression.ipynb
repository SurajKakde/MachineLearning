{
  "nbformat": 4,
  "nbformat_minor": 0,
  "metadata": {
    "colab": {
      "name": "polynomial_regression.ipynb",
      "provenance": [],
      "collapsed_sections": [],
      "toc_visible": true
    },
    "kernelspec": {
      "name": "python3",
      "display_name": "Python 3"
    }
  },
  "cells": [
    {
      "cell_type": "markdown",
      "metadata": {
        "id": "vN99YjPTDena",
        "colab_type": "text"
      },
      "source": [
        "# Polynomial Regression"
      ]
    },
    {
      "cell_type": "markdown",
      "metadata": {
        "id": "ZIx_naXnDyHd",
        "colab_type": "text"
      },
      "source": [
        "## Importing the libraries"
      ]
    },
    {
      "cell_type": "code",
      "metadata": {
        "id": "EiwFOvkMk_6F",
        "colab_type": "code",
        "colab": {}
      },
      "source": [
        "import numpy as np\n",
        "import matplotlib.pyplot as plt\n",
        "import pandas as pd"
      ],
      "execution_count": 0,
      "outputs": []
    },
    {
      "cell_type": "markdown",
      "metadata": {
        "id": "6c8YExmOD5x5",
        "colab_type": "text"
      },
      "source": [
        "## Importing the dataset"
      ]
    },
    {
      "cell_type": "code",
      "metadata": {
        "id": "itfb5olZlbTB",
        "colab_type": "code",
        "colab": {}
      },
      "source": [
        "dataset = pd.read_csv('Position_Salaries.csv')\n",
        "x = dataset.iloc[:, 1:-1].values\n",
        "y = dataset.iloc[:, 2].values"
      ],
      "execution_count": 0,
      "outputs": []
    },
    {
      "cell_type": "code",
      "metadata": {
        "id": "Un-LvaMOmBU_",
        "colab_type": "code",
        "colab": {}
      },
      "source": [
        "print(x)"
      ],
      "execution_count": 0,
      "outputs": []
    },
    {
      "cell_type": "markdown",
      "metadata": {
        "id": "Le8SEL-YEOLb",
        "colab_type": "text"
      },
      "source": [
        "## Training the Linear Regression model on the whole dataset"
      ]
    },
    {
      "cell_type": "code",
      "metadata": {
        "id": "5LAqhVJvmbKZ",
        "colab_type": "code",
        "outputId": "b26cf907-662c-431a-8e74-59a613598c71",
        "colab": {
          "base_uri": "https://localhost:8080/",
          "height": 34
        }
      },
      "source": [
        "from sklearn.linear_model import LinearRegression\n",
        "lin_reg = LinearRegression()\n",
        "lin_reg.fit(x, y)"
      ],
      "execution_count": 4,
      "outputs": [
        {
          "output_type": "execute_result",
          "data": {
            "text/plain": [
              "LinearRegression(copy_X=True, fit_intercept=True, n_jobs=None, normalize=False)"
            ]
          },
          "metadata": {
            "tags": []
          },
          "execution_count": 4
        }
      ]
    },
    {
      "cell_type": "markdown",
      "metadata": {
        "id": "Rb5nWuSHEfBV",
        "colab_type": "text"
      },
      "source": [
        "## Training the Polynomial Regression model on the whole dataset"
      ]
    },
    {
      "cell_type": "code",
      "metadata": {
        "id": "J94Tv_0wothg",
        "colab_type": "code",
        "outputId": "01eb53df-0c74-4502-a059-3fe9723e60f9",
        "colab": {
          "base_uri": "https://localhost:8080/",
          "height": 34
        }
      },
      "source": [
        "from sklearn.preprocessing import PolynomialFeatures\n",
        "poly_reg = PolynomialFeatures(degree = 4)\n",
        "x_poly = poly_reg.fit_transform(x)\n",
        "lin_reg2 = LinearRegression()\n",
        "lin_reg2.fit(x_poly, y)"
      ],
      "execution_count": 26,
      "outputs": [
        {
          "output_type": "execute_result",
          "data": {
            "text/plain": [
              "LinearRegression(copy_X=True, fit_intercept=True, n_jobs=None, normalize=False)"
            ]
          },
          "metadata": {
            "tags": []
          },
          "execution_count": 26
        }
      ]
    },
    {
      "cell_type": "markdown",
      "metadata": {
        "id": "0O8R0tzbEpvy",
        "colab_type": "text"
      },
      "source": [
        "## Visualising the Linear Regression results"
      ]
    },
    {
      "cell_type": "code",
      "metadata": {
        "id": "0rAJwulmzqPy",
        "colab_type": "code",
        "colab": {
          "base_uri": "https://localhost:8080/",
          "height": 295
        },
        "outputId": "462dc227-628b-4eff-e4c3-c2b7d579f090"
      },
      "source": [
        "plt.scatter(x, y, color = 'red')\n",
        "plt.plot(x, lin_reg.predict(x), color='blue')\n",
        "plt.title('Truth or bluff (Linear regression)')\n",
        "plt.xlabel('Position level')\n",
        "plt.ylabel('salary')\n",
        "plt.show()"
      ],
      "execution_count": 7,
      "outputs": [
        {
          "output_type": "display_data",
          "data": {
            "image/png": "[encoded data removed]",
            "text/plain": [
              "<Figure size 432x288 with 1 Axes>"
            ]
          },
          "metadata": {
            "tags": [],
            "needs_background": "light"
          }
        }
      ]
    },
    {
      "cell_type": "markdown",
      "metadata": {
        "id": "stOnSo74E52m",
        "colab_type": "text"
      },
      "source": [
        "## Visualising the Polynomial Regression results"
      ]
    },
    {
      "cell_type": "code",
      "metadata": {
        "id": "T9es_xO3g39O",
        "colab_type": "code",
        "colab": {
          "base_uri": "https://localhost:8080/",
          "height": 295
        },
        "outputId": "50012e1a-5159-4c8c-e67b-ba335106b0cd"
      },
      "source": [
        "plt.scatter(x, y, color = 'red')\n",
        "plt.plot(x, lin_reg2.predict(poly_reg.fit_transform(x)), color='blue')\n",
        "plt.title('Truth or bluff (Polynomial regression)')\n",
        "plt.xlabel('Position level')\n",
        "plt.ylabel('salary')\n",
        "plt.show()"
      ],
      "execution_count": 27,
      "outputs": [
        {
          "output_type": "display_data",
          "data": {
            "image/png": "[encoded data removed]",
            "text/plain": [
              "<Figure size 432x288 with 1 Axes>"
            ]
          },
          "metadata": {
            "tags": [],
            "needs_background": "light"
          }
        }
      ]
    },
    {
      "cell_type": "markdown",
      "metadata": {
        "id": "U_qsAMKnE-PJ",
        "colab_type": "text"
      },
      "source": [
        "## Visualising the Polynomial Regression results (for higher resolution and smoother curve)"
      ]
    },
    {
      "cell_type": "code",
      "metadata": {
        "id": "-LEdmu5sikuj",
        "colab_type": "code",
        "colab": {
          "base_uri": "https://localhost:8080/",
          "height": 295
        },
        "outputId": "81d9d1ce-8b2b-4fc7-ffc1-2902f9741f95"
      },
      "source": [
        "x_grid = np.arange(min(x), max(x), 0.1)\n",
        "x_grid = x_grid.reshape((len(x_grid), 1))\n",
        "plt.scatter(x, y, color = 'red')\n",
        "plt.plot(x_grid, lin_reg2.predict(poly_reg.fit_transform(x_grid)), color='blue')\n",
        "plt.title('Truth or bluff (Polynomial regression)')\n",
        "plt.xlabel('Position level')\n",
        "plt.ylabel('salary')\n",
        "plt.show()"
      ],
      "execution_count": 13,
      "outputs": [
        {
          "output_type": "display_data",
          "data": {
            "image/png": "[encoded data removed]",
            "text/plain": [
              "<Figure size 432x288 with 1 Axes>"
            ]
          },
          "metadata": {
            "tags": [],
            "needs_background": "light"
          }
        }
      ]
    },
    {
      "cell_type": "markdown",
      "metadata": {
        "id": "diyJFZHhFFeK",
        "colab_type": "text"
      },
      "source": [
        "## Predicting a new result with Linear Regression"
      ]
    },
    {
      "cell_type": "code",
      "metadata": {
        "id": "4vhHWzA6jc_e",
        "colab_type": "code",
        "colab": {
          "base_uri": "https://localhost:8080/",
          "height": 34
        },
        "outputId": "873c6fc2-bbad-4e1e-de47-caaf77ac0c8a"
      },
      "source": [
        "lin_reg.predict([[6.5]])"
      ],
      "execution_count": 18,
      "outputs": [
        {
          "output_type": "execute_result",
          "data": {
            "text/plain": [
              "array([330378.78787879])"
            ]
          },
          "metadata": {
            "tags": []
          },
          "execution_count": 18
        }
      ]
    },
    {
      "cell_type": "markdown",
      "metadata": {
        "id": "DW7I7ZVDFNkk",
        "colab_type": "text"
      },
      "source": [
        "## Predicting a new result with Polynomial Regression"
      ]
    },
    {
      "cell_type": "code",
      "metadata": {
        "id": "NcvSKWlYksgI",
        "colab_type": "code",
        "colab": {
          "base_uri": "https://localhost:8080/",
          "height": 34
        },
        "outputId": "257ef8ba-dcd0-4cb0-c745-25611b83b8ec"
      },
      "source": [
        "lin_reg2.predict(poly_reg.fit_transform([[6.5]]))"
      ],
      "execution_count": 19,
      "outputs": [
        {
          "output_type": "execute_result",
          "data": {
            "text/plain": [
              "array([158862.45265155])"
            ]
          },
          "metadata": {
            "tags": []
          },
          "execution_count": 19
        }
      ]
    }
  ]
}